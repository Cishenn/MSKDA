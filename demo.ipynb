{
 "cells": [
  {
   "cell_type": "markdown",
   "id": "5ce58127-bd1b-4f00-9365-b0f6ba1aea53",
   "metadata": {},
   "source": [
    "## Import Libraries"
   ]
  },
  {
   "cell_type": "code",
   "execution_count": 10,
   "id": "e1a5388b-0701-477b-87cf-e591382f2a02",
   "metadata": {},
   "outputs": [],
   "source": [
    "\n",
    "import requests\n"
   ]
  },
  {
   "cell_type": "markdown",
   "id": "9796f3e9-f273-4085-9848-3dc52632314c",
   "metadata": {},
   "source": [
    "## API Base URI"
   ]
  },
  {
   "cell_type": "code",
   "execution_count": null,
   "id": "b1bd78ee-40b6-4e40-b9bf-634eddf15000",
   "metadata": {},
   "outputs": [],
   "source": [
    "\n",
    "base = \"https://spoke.rbvi.ucsf.edu/api/\"\n"
   ]
  },
  {
   "cell_type": "markdown",
   "id": "d42cefd9-ea47-4ef9-82d7-53370e6235b6",
   "metadata": {},
   "source": [
    "## API Endpoint"
   ]
  },
  {
   "cell_type": "code",
   "execution_count": null,
   "id": "59fb2b6b-dc04-45a8-bb0a-37911c952984",
   "metadata": {},
   "outputs": [],
   "source": [
    "\n",
    "detail = \"v1/kg_rag_context_extended\"\n",
    "uri = base + detail\n"
   ]
  },
  {
   "cell_type": "markdown",
   "id": "8015b033-aa74-4f2c-9749-3dbf73069a03",
   "metadata": {},
   "source": [
    "## API parameters"
   ]
  },
  {
   "cell_type": "code",
   "execution_count": null,
   "id": "bc71456f-fee3-4f1c-9221-e20da6613c5c",
   "metadata": {},
   "outputs": [],
   "source": [
    "\n",
    "search_depth = 2\n",
    "edge_evidence = False\n"
   ]
  },
  {
   "cell_type": "markdown",
   "id": "d1c20441-fa74-484b-a519-35b48d9f26ab",
   "metadata": {},
   "source": [
    "## User query"
   ]
  },
  {
   "cell_type": "code",
   "execution_count": null,
   "id": "31529d8f-5dc9-4c1b-9fe5-2cf16bb034d7",
   "metadata": {},
   "outputs": [],
   "source": [
    "\n",
    "query = \"What are the sideffects of Chronic Hepatitis C treatment?\"\n"
   ]
  },
  {
   "cell_type": "markdown",
   "id": "2324becc-5fc3-4e31-98f2-5fb7773ae09d",
   "metadata": {},
   "source": [
    "## Run API call"
   ]
  },
  {
   "cell_type": "code",
   "execution_count": null,
   "id": "8a5ada8d-b4f7-4c1e-8c37-c77cbda45a10",
   "metadata": {},
   "outputs": [],
   "source": [
    "%%time\n",
    "\n",
    "params = {\n",
    "    \"query\": query,\n",
    "    \"search_depth\": search_depth,\n",
    "    \"edge_evidence\": edge_evidence\n",
    "}\n",
    "\n",
    "response = requests.get(uri, params=params)\n",
    "print(response.json())\n"
   ]
  },
  {
   "cell_type": "code",
   "execution_count": null,
   "id": "31fe79ef-18c2-40f1-984a-5e86e3e08d0e",
   "metadata": {},
   "outputs": [],
   "source": [
    "原句：Ribavirin remains essential to Chronic Hepatitis C treatment\n",
    "三元组：< Ribavirin, may treat, Chronic Hepatitis C >"
   ]
  }
 ],
 "metadata": {
  "kernelspec": {
   "display_name": "Python 3 (ipykernel)",
   "language": "python",
   "name": "python3"
  },
  "language_info": {
   "codemirror_mode": {
    "name": "ipython",
    "version": 3
   },
   "file_extension": ".py",
   "mimetype": "text/x-python",
   "name": "python",
   "nbconvert_exporter": "python",
   "pygments_lexer": "ipython3",
   "version": "3.10.9"
  }
 },
 "nbformat": 4,
 "nbformat_minor": 5
}
